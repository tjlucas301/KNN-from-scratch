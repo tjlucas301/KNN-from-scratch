{
 "cells": [
  {
   "cell_type": "code",
   "execution_count": 205,
   "id": "4cf0ec61",
   "metadata": {},
   "outputs": [],
   "source": [
    "from math import sqrt\n",
    "from pyspark.sql import SparkSession\n",
    "from pyspark.sql.functions import mean, stddev\n",
    "from pyspark.sql.types import StructType, StructField, FloatType, StringType\n",
    "from heapq import nsmallest\n",
    "import statistics"
   ]
  },
  {
   "cell_type": "code",
   "execution_count": 206,
   "id": "14c7fd3b",
   "metadata": {},
   "outputs": [],
   "source": [
    "# Constructing schema and loading in dataframe\n",
    "\n",
    "spark = SparkSession.builder.appName(\"iris\").getOrCreate()\n",
    "schema = StructType([ \n",
    "    StructField('sepal_length', \n",
    "                FloatType(), True), \n",
    "    StructField('sepal_width', \n",
    "                FloatType(), True), \n",
    "    StructField('petal_length', \n",
    "                FloatType(), True), \n",
    "    StructField('petal_width', \n",
    "                FloatType(), True),\n",
    "    StructField('class',\n",
    "                StringType(), True)\n",
    "    ])\n",
    "iris_df = spark.read.format(\"csv\").schema(schema).option(\"header\", False).load(\"C:/Users/tyler/Documents/SparkAssignments/FinalProject/iris/iris.data\")\n",
    "iris_df.createOrReplaceTempView(\"iris\")"
   ]
  },
  {
   "cell_type": "code",
   "execution_count": 207,
   "id": "d8bb234e",
   "metadata": {},
   "outputs": [],
   "source": [
    "# Calculating mean and standard deviations of the features\n",
    "\n",
    "mean_sep_len = iris_df.agg(mean('sepal_length')).first()[0]\n",
    "mean_sep_wid = iris_df.agg(mean('sepal_width')).first()[0]\n",
    "mean_pet_len = iris_df.agg(mean('petal_length')).first()[0]\n",
    "mean_pet_wid = iris_df.agg(mean('petal_width')).first()[0]\n",
    "\n",
    "stddev_sep_len = iris_df.agg(stddev('sepal_length')).first()[0]\n",
    "stddev_sep_wid = iris_df.agg(stddev('sepal_width')).first()[0]\n",
    "stddev_pet_len = iris_df.agg(stddev('petal_length')).first()[0]\n",
    "stddev_pet_wid = iris_df.agg(stddev('petal_width')).first()[0]"
   ]
  },
  {
   "cell_type": "code",
   "execution_count": 208,
   "id": "5b58d96d",
   "metadata": {},
   "outputs": [],
   "source": [
    "# Normalizing the data and mapping this function to every row in the dataframe\n",
    "\n",
    "def normalize(row):\n",
    "    return ((row[0] - mean_sep_len) / stddev_sep_len,\n",
    "            (row[1] - mean_sep_wid) / stddev_sep_wid,\n",
    "            (row[2] - mean_pet_len) / stddev_pet_len,\n",
    "            (row[3] - mean_pet_wid) / stddev_pet_wid,\n",
    "             row[4]\n",
    "           )"
   ]
  },
  {
   "cell_type": "code",
   "execution_count": 209,
   "id": "0888f648",
   "metadata": {},
   "outputs": [],
   "source": [
    "normalized_rdd = df.rdd.map(normalize)"
   ]
  },
  {
   "cell_type": "code",
   "execution_count": 210,
   "id": "2b353abc",
   "metadata": {},
   "outputs": [],
   "source": [
    "normalized_df = spark.createDataFrame(normalized_rdd, schema)"
   ]
  },
  {
   "cell_type": "code",
   "execution_count": 211,
   "id": "304105ae",
   "metadata": {},
   "outputs": [
    {
     "name": "stdout",
     "output_type": "stream",
     "text": [
      "+------------+-----------+------------+-----------+-----------+\n",
      "|sepal_length|sepal_width|petal_length|petal_width|      class|\n",
      "+------------+-----------+------------+-----------+-----------+\n",
      "|   -0.897674|  1.0286113|   -1.336794| -1.3085928|Iris-setosa|\n",
      "|  -1.1392003|-0.12454039|   -1.336794| -1.3085928|Iris-setosa|\n",
      "|  -1.3807273| 0.33672038|  -1.3934699| -1.3085928|Iris-setosa|\n",
      "|  -1.5014905|0.106089726|  -1.2801182| -1.3085928|Iris-setosa|\n",
      "|  -1.0184371|  1.2592413|   -1.336794| -1.3085928|Iris-setosa|\n",
      "|  -0.5353839|  1.9511328|  -1.1667665| -1.0465249|Iris-setosa|\n",
      "|  -1.5014905| 0.79798114|   -1.336794| -1.1775588|Iris-setosa|\n",
      "|  -1.0184371| 0.79798114|  -1.2801182| -1.3085928|Iris-setosa|\n",
      "|   -1.743017| -0.3551705|   -1.336794| -1.3085928|Iris-setosa|\n",
      "|  -1.1392003|0.106089726|  -1.2801182| -1.4396268|Iris-setosa|\n",
      "|  -0.5353839|  1.4898721|  -1.2801182| -1.3085928|Iris-setosa|\n",
      "|  -1.2599635| 0.79798114|  -1.2234423| -1.3085928|Iris-setosa|\n",
      "|  -1.2599635|-0.12454039|   -1.336794| -1.4396268|Iris-setosa|\n",
      "|  -1.8637801|-0.12454039|  -1.5068215| -1.4396268|Iris-setosa|\n",
      "|-0.052330527|   2.181763|  -1.4501456| -1.3085928|Iris-setosa|\n",
      "| -0.17309429|  3.1042845|  -1.2801182| -1.0465249|Iris-setosa|\n",
      "|  -0.5353839|  1.9511328|  -1.3934699| -1.0465249|Iris-setosa|\n",
      "|   -0.897674|  1.0286113|   -1.336794| -1.1775588|Iris-setosa|\n",
      "| -0.17309429|  1.7205021|  -1.1667665| -1.1775588|Iris-setosa|\n",
      "|   -0.897674|  1.7205021|  -1.2801182| -1.1775588|Iris-setosa|\n",
      "+------------+-----------+------------+-----------+-----------+\n",
      "only showing top 20 rows\n",
      "\n"
     ]
    }
   ],
   "source": [
    "normalized_df.show()"
   ]
  },
  {
   "cell_type": "code",
   "execution_count": 212,
   "id": "4e549577",
   "metadata": {},
   "outputs": [],
   "source": [
    "# Splitting data into training, validation, and testing sets\n",
    "\n",
    "train_df, val_df, test_df = normalized_df.randomSplit(weights=[.6, .2, .2], seed=100)"
   ]
  },
  {
   "cell_type": "code",
   "execution_count": 213,
   "id": "ae1357ae",
   "metadata": {},
   "outputs": [],
   "source": [
    "# Extracting class labels from dataframes\n",
    "\n",
    "train_labels = [row['class'] for row in train_df.select(\"class\").collect()]\n",
    "val_labels = [row['class'] for row in val_df.select(\"class\").collect()]\n",
    "test_labels = [row['class'] for row in test_df.select(\"class\").collect()]"
   ]
  },
  {
   "cell_type": "code",
   "execution_count": 214,
   "id": "b6b801fb",
   "metadata": {},
   "outputs": [],
   "source": [
    "# Removing class labels from original dataframes\n",
    "\n",
    "train_df = train_df.select(train_df.columns[0:4])\n",
    "test_df = test_df.select(test_df.columns[0:4])\n",
    "val_df = val_df.select(val_df.columns[0:4])"
   ]
  },
  {
   "cell_type": "code",
   "execution_count": 215,
   "id": "ba996629",
   "metadata": {},
   "outputs": [],
   "source": [
    "# Collecting data from train df->rdd so I don't have to later\n",
    "\n",
    "train_rdd = train_df.rdd.collect()"
   ]
  },
  {
   "cell_type": "code",
   "execution_count": 216,
   "id": "40651aa0",
   "metadata": {},
   "outputs": [],
   "source": [
    "# Calculating euclidean distance between one row (in either val or test) and all the data in the training set\n",
    "\n",
    "def euclidean_dist(row):\n",
    "    dist = {}\n",
    "    for index, data in enumerate(train_rdd):\n",
    "        dist[index] = sqrt(sum([pow(row[0] - train_rdd[index][0], 2), \n",
    "                                pow(row[1] - train_rdd[index][1], 2), \n",
    "                                pow(row[2] - train_rdd[index][2], 2), \n",
    "                                pow(row[3] - train_rdd[index][3], 2)]))\n",
    "\n",
    "    return dist"
   ]
  },
  {
   "cell_type": "code",
   "execution_count": 220,
   "id": "f5fc8727",
   "metadata": {},
   "outputs": [],
   "source": [
    "# Maps the euclidean distance function across every row in the val or test set, keeps the k nearest, looks up and assigns most common class label\n",
    "\n",
    "def predict(df, k):\n",
    "    distances = df.rdd.map(euclidean_dist).collect()\n",
    "    k_closest = {}\n",
    "    for index, data in enumerate(distances):\n",
    "        k_closest_indices = nsmallest(k, data, key=data.get)\n",
    "        k_closest[index] = k_closest_indices\n",
    "\n",
    "        for i, num in enumerate(k_closest[index]): \n",
    "            k_closest[index][i] = train_labels[num]\n",
    "        \n",
    "        k_closest[index] = statistics.mode(k_closest[index])\n",
    "        \n",
    "    return k_closest"
   ]
  },
  {
   "cell_type": "code",
   "execution_count": 218,
   "id": "0facc49f",
   "metadata": {},
   "outputs": [
    {
     "name": "stdout",
     "output_type": "stream",
     "text": [
      "k=2 accuracy: 100.0%\n",
      "k=4 accuracy: 100.0%\n",
      "k=6 accuracy: 100.0%\n",
      "k=8 accuracy: 100.0%\n",
      "k=10 accuracy: 100.0%\n",
      "k=12 accuracy: 100.0%\n",
      "k=14 accuracy: 100.0%\n",
      "k=16 accuracy: 100.0%\n",
      "k=18 accuracy: 100.0%\n",
      "k=20 accuracy: 93.1%\n",
      "k=22 accuracy: 96.6%\n",
      "k=24 accuracy: 96.6%\n",
      "k=26 accuracy: 96.6%\n",
      "k=28 accuracy: 96.6%\n",
      "k=30 accuracy: 96.6%\n",
      "k=32 accuracy: 93.1%\n",
      "k=34 accuracy: 93.1%\n",
      "k=36 accuracy: 96.6%\n",
      "k=38 accuracy: 93.1%\n",
      "k=40 accuracy: 93.1%\n",
      "k=42 accuracy: 93.1%\n",
      "k=44 accuracy: 93.1%\n",
      "k=46 accuracy: 93.1%\n",
      "k=48 accuracy: 86.2%\n"
     ]
    }
   ],
   "source": [
    "for i in range(2, 50, 2):\n",
    "    print(f\"k={i} accuracy: {round(prediction_accuracy(val_df, val_labels, i) * 100, 3)}%\")"
   ]
  },
  {
   "cell_type": "markdown",
   "id": "840981eb",
   "metadata": {},
   "source": [
    "I get 100% accuracy until k=20, so we will stick with k=10."
   ]
  },
  {
   "cell_type": "code",
   "execution_count": 225,
   "id": "7eb1ab03",
   "metadata": {},
   "outputs": [
    {
     "name": "stdout",
     "output_type": "stream",
     "text": [
      "Test prediction accuracy with k=10: 93.5%\n"
     ]
    }
   ],
   "source": [
    "print(f\"Test prediction accuracy with k=10: {prediction_accuracy(test_df, test_labels, 10) * 100}%\")"
   ]
  },
  {
   "cell_type": "code",
   "execution_count": null,
   "id": "4073246e",
   "metadata": {},
   "outputs": [],
   "source": []
  }
 ],
 "metadata": {
  "kernelspec": {
   "display_name": "PYSPARK_KERNEL",
   "language": "python",
   "name": "pyspark_kernel"
  },
  "language_info": {
   "codemirror_mode": {
    "name": "ipython",
    "version": 3
   },
   "file_extension": ".py",
   "mimetype": "text/x-python",
   "name": "python",
   "nbconvert_exporter": "python",
   "pygments_lexer": "ipython3",
   "version": "3.11.1"
  }
 },
 "nbformat": 4,
 "nbformat_minor": 5
}
